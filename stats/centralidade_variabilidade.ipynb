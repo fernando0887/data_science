{
 "cells": [
  {
   "cell_type": "code",
   "execution_count": 2,
   "id": "0574acf1",
   "metadata": {},
   "outputs": [],
   "source": [
    "import numpy as np\n",
    "from scipy import stats"
   ]
  },
  {
   "cell_type": "code",
   "execution_count": 10,
   "id": "02906961",
   "metadata": {},
   "outputs": [
    {
     "data": {
      "text/plain": [
       "833.3333333333334"
      ]
     },
     "execution_count": 10,
     "metadata": {},
     "output_type": "execute_result"
    }
   ],
   "source": [
    "#criando variavel com valores \n",
    "jogadores = [400,500,600,800,1200,1500]\n",
    "np.mean(jogadores)"
   ]
  },
  {
   "cell_type": "code",
   "execution_count": 9,
   "id": "88739b54",
   "metadata": {},
   "outputs": [
    {
     "data": {
      "text/plain": [
       "700.0"
      ]
     },
     "execution_count": 9,
     "metadata": {},
     "output_type": "execute_result"
    }
   ],
   "source": [
    "np.median(jogadores)"
   ]
  },
  {
   "cell_type": "code",
   "execution_count": 5,
   "id": "e9136c68",
   "metadata": {},
   "outputs": [
    {
     "data": {
      "text/plain": [
       "array([ 525.,  700., 1100., 1500.])"
      ]
     },
     "execution_count": 5,
     "metadata": {},
     "output_type": "execute_result"
    }
   ],
   "source": [
    "#gerando os quartis\n",
    "quartis = np.quantile(jogadores,[0.25,0.5,0.75,1])\n",
    "quartis\n"
   ]
  },
  {
   "cell_type": "code",
   "execution_count": 11,
   "id": "4d33bc7e",
   "metadata": {},
   "outputs": [
    {
     "data": {
      "text/plain": [
       "432.04937989385735"
      ]
     },
     "execution_count": 11,
     "metadata": {},
     "output_type": "execute_result"
    }
   ],
   "source": [
    "#desvio padrao \n",
    "np.std(jogadores, ddof = 1)"
   ]
  },
  {
   "cell_type": "code",
   "execution_count": 7,
   "id": "4d542cbb",
   "metadata": {},
   "outputs": [
    {
     "data": {
      "text/plain": [
       "DescribeResult(nobs=6, minmax=(400, 1500), mean=833.3333333333334, variance=186666.66666666666, skewness=0.5825527541521559, kurtosis=-1.1666326530612245)"
      ]
     },
     "execution_count": 7,
     "metadata": {},
     "output_type": "execute_result"
    }
   ],
   "source": [
    "#visualizacao de estatisticas mais detalhadas usando scipy\n",
    "stats.describe(jogadores)"
   ]
  },
  {
   "cell_type": "code",
   "execution_count": null,
   "id": "d629dbfe",
   "metadata": {},
   "outputs": [],
   "source": []
  }
 ],
 "metadata": {
  "kernelspec": {
   "display_name": "Python 3",
   "language": "python",
   "name": "python3"
  },
  "language_info": {
   "codemirror_mode": {
    "name": "ipython",
    "version": 3
   },
   "file_extension": ".py",
   "mimetype": "text/x-python",
   "name": "python",
   "nbconvert_exporter": "python",
   "pygments_lexer": "ipython3",
   "version": "3.8.8"
  }
 },
 "nbformat": 4,
 "nbformat_minor": 5
}
