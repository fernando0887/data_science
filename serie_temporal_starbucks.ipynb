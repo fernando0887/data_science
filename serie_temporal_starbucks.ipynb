{
 "cells": [
  {
   "cell_type": "code",
   "execution_count": 1,
   "metadata": {},
   "outputs": [],
   "source": [
    "#título: Série temporal Arima ações starbucks\n",
    "#autor: Fernando Schmitt"
   ]
  },
  {
   "cell_type": "code",
   "execution_count": 2,
   "metadata": {},
   "outputs": [],
   "source": [
    "import pandas as pd\n",
    "import matplotlib.pylab as plt\n",
    "from statsmodels.tsa.arima.model import ARIMA\n",
    "from pmdarima.arima import auto_arima\n",
    "from datetime import datetime\n",
    "from pandas.plotting import register_matplotlib_converters\n",
    "register_matplotlib_converters()"
   ]
  },
  {
   "cell_type": "code",
   "execution_count": 3,
   "metadata": {},
   "outputs": [
    {
     "name": "stdout",
     "output_type": "stream",
     "text": [
      "                  Open        High         Low       Close     Volume  \\\n",
      "Date                                                                    \n",
      "1992-06-26    0.270957    0.287086    0.264507    0.277409  224358400   \n",
      "1992-06-29    0.280635    0.303215    0.274183    0.296763   58732800   \n",
      "1992-06-30    0.303215    0.306440    0.283860    0.287086   34777600   \n",
      "1992-07-01    0.290312    0.296763    0.280635    0.293538   18316800   \n",
      "1992-07-02    0.296763    0.296763    0.287086    0.293538   13996800   \n",
      "...                ...         ...         ...         ...        ...   \n",
      "2021-09-27  113.610001  114.669998  112.910004  113.680000    3988800   \n",
      "2021-09-28  112.680000  113.000000  111.080002  111.709999    5917700   \n",
      "2021-09-29  111.900002  112.519997  111.570000  112.169998    4389100   \n",
      "2021-09-30  111.519997  112.160004  110.309998  110.309998    5974500   \n",
      "2021-10-01  110.889999  113.459999  110.540001  112.919998    5244849   \n",
      "\n",
      "            Dividends  Stock Splits  \n",
      "Date                                 \n",
      "1992-06-26        0.0           0.0  \n",
      "1992-06-29        0.0           0.0  \n",
      "1992-06-30        0.0           0.0  \n",
      "1992-07-01        0.0           0.0  \n",
      "1992-07-02        0.0           0.0  \n",
      "...               ...           ...  \n",
      "2021-09-27        0.0           0.0  \n",
      "2021-09-28        0.0           0.0  \n",
      "2021-09-29        0.0           0.0  \n",
      "2021-09-30        0.0           0.0  \n",
      "2021-10-01        0.0           0.0  \n",
      "\n",
      "[7372 rows x 7 columns]\n"
     ]
    }
   ],
   "source": [
    "#visualizando dados primários e covertendo o histórico de dias faltantes \n",
    "data= pd.read_csv('Starbucks_stock_history.csv')\n",
    "data['Date'] =  pd.to_datetime(data['Date'], format='%Y-%m-%d')\n",
    "data = data.sort_values(by=['Date'], ascending=[True])\n",
    "data.set_index('Date', inplace=True)\n",
    "print (data)\n"
   ]
  },
  {
   "cell_type": "code",
   "execution_count": 4,
   "metadata": {},
   "outputs": [
    {
     "name": "stdout",
     "output_type": "stream",
     "text": [
      "                  Open        High         Low       Close     Volume  \\\n",
      "Date                                                                    \n",
      "1992-06-26    0.270957    0.287086    0.264507    0.277409  224358400   \n",
      "1992-06-27    0.270957    0.287086    0.264507    0.277409  224358400   \n",
      "1992-06-28    0.270957    0.287086    0.264507    0.277409  224358400   \n",
      "1992-06-29    0.280635    0.303215    0.274183    0.296763   58732800   \n",
      "1992-06-30    0.303215    0.306440    0.283860    0.287086   34777600   \n",
      "...                ...         ...         ...         ...        ...   \n",
      "2021-09-27  113.610001  114.669998  112.910004  113.680000    3988800   \n",
      "2021-09-28  112.680000  113.000000  111.080002  111.709999    5917700   \n",
      "2021-09-29  111.900002  112.519997  111.570000  112.169998    4389100   \n",
      "2021-09-30  111.519997  112.160004  110.309998  110.309998    5974500   \n",
      "2021-10-01  110.889999  113.459999  110.540001  112.919998    5244849   \n",
      "\n",
      "            Dividends  Stock Splits  \n",
      "Date                                 \n",
      "1992-06-26        0.0           0.0  \n",
      "1992-06-27        0.0           0.0  \n",
      "1992-06-28        0.0           0.0  \n",
      "1992-06-29        0.0           0.0  \n",
      "1992-06-30        0.0           0.0  \n",
      "...               ...           ...  \n",
      "2021-09-27        0.0           0.0  \n",
      "2021-09-28        0.0           0.0  \n",
      "2021-09-29        0.0           0.0  \n",
      "2021-09-30        0.0           0.0  \n",
      "2021-10-01        0.0           0.0  \n",
      "\n",
      "[10690 rows x 7 columns]\n"
     ]
    }
   ],
   "source": [
    "data = data.resample('D').ffill()\n",
    "print (data)"
   ]
  },
  {
   "cell_type": "code",
   "execution_count": 5,
   "metadata": {},
   "outputs": [],
   "source": [
    "#Mostra os estilos de colorização de gráficos disponíveis\n",
    "#print(plt.style.available)"
   ]
  },
  {
   "cell_type": "code",
   "execution_count": 6,
   "metadata": {},
   "outputs": [
    {
     "data": {
      "text/plain": [
       "[<matplotlib.lines.Line2D at 0x7fa7b9fcc3c8>]"
      ]
     },
     "execution_count": 6,
     "metadata": {},
     "output_type": "execute_result"
    },
    {
     "data": {
      "image/png": "[encoded data removed]",
      "text/plain": [
       "<Figure size 432x288 with 1 Axes>"
      ]
     },
     "metadata": {},
     "output_type": "display_data"
    }
   ],
   "source": [
    "#criando a série com o histórico da altas atravéz dos anos\n",
    "ts= data['High'] \n",
    "plt.style.use('Solarize_Light2')\n",
    "plt.title(\"Série de altas das ações\")\n",
    "plt.xlabel(\"Anos\")\n",
    "plt.ylabel(\"Valor\")\n",
    "plt.plot(ts)"
   ]
  },
  {
   "cell_type": "code",
   "execution_count": 7,
   "metadata": {},
   "outputs": [
    {
     "data": {
      "text/html": [
       "<table class=\"simpletable\">\n",
       "<caption>SARIMAX Results</caption>\n",
       "<tr>\n",
       "  <th>Dep. Variable:</th>         <td>High</td>       <th>  No. Observations:  </th>   <td>10690</td>  \n",
       "</tr>\n",
       "<tr>\n",
       "  <th>Model:</th>            <td>ARIMA(1, 1, 1)</td>  <th>  Log Likelihood     </th> <td>-5901.012</td>\n",
       "</tr>\n",
       "<tr>\n",
       "  <th>Date:</th>            <td>Wed, 09 Mar 2022</td> <th>  AIC                </th> <td>11808.024</td>\n",
       "</tr>\n",
       "<tr>\n",
       "  <th>Time:</th>                <td>12:01:25</td>     <th>  BIC                </th> <td>11829.855</td>\n",
       "</tr>\n",
       "<tr>\n",
       "  <th>Sample:</th>             <td>06-26-1992</td>    <th>  HQIC               </th> <td>11815.389</td>\n",
       "</tr>\n",
       "<tr>\n",
       "  <th></th>                   <td>- 10-01-2021</td>   <th>                     </th>     <td> </td>    \n",
       "</tr>\n",
       "<tr>\n",
       "  <th>Covariance Type:</th>        <td>opg</td>       <th>                     </th>     <td> </td>    \n",
       "</tr>\n",
       "</table>\n",
       "<table class=\"simpletable\">\n",
       "<tr>\n",
       "     <td></td>       <th>coef</th>     <th>std err</th>      <th>z</th>      <th>P>|z|</th>  <th>[0.025</th>    <th>0.975]</th>  \n",
       "</tr>\n",
       "<tr>\n",
       "  <th>ar.L1</th>  <td>    0.0324</td> <td>    0.080</td> <td>    0.407</td> <td> 0.684</td> <td>   -0.124</td> <td>    0.188</td>\n",
       "</tr>\n",
       "<tr>\n",
       "  <th>ma.L1</th>  <td>    0.0075</td> <td>    0.079</td> <td>    0.095</td> <td> 0.924</td> <td>   -0.148</td> <td>    0.163</td>\n",
       "</tr>\n",
       "<tr>\n",
       "  <th>sigma2</th> <td>    0.1766</td> <td>    0.000</td> <td>  451.461</td> <td> 0.000</td> <td>    0.176</td> <td>    0.177</td>\n",
       "</tr>\n",
       "</table>\n",
       "<table class=\"simpletable\">\n",
       "<tr>\n",
       "  <th>Ljung-Box (L1) (Q):</th>      <td>0.00</td>  <th>  Jarque-Bera (JB):  </th> <td>2833414.94</td>\n",
       "</tr>\n",
       "<tr>\n",
       "  <th>Prob(Q):</th>                 <td>0.95</td>  <th>  Prob(JB):          </th>    <td>0.00</td>   \n",
       "</tr>\n",
       "<tr>\n",
       "  <th>Heteroskedasticity (H):</th> <td>148.47</td> <th>  Skew:              </th>    <td>0.77</td>   \n",
       "</tr>\n",
       "<tr>\n",
       "  <th>Prob(H) (two-sided):</th>     <td>0.00</td>  <th>  Kurtosis:          </th>    <td>82.75</td>  \n",
       "</tr>\n",
       "</table><br/><br/>Warnings:<br/>[1] Covariance matrix calculated using the outer product of gradients (complex-step)."
      ],
      "text/plain": [
       "<class 'statsmodels.iolib.summary.Summary'>\n",
       "\"\"\"\n",
       "                               SARIMAX Results                                \n",
       "==============================================================================\n",
       "Dep. Variable:                   High   No. Observations:                10690\n",
       "Model:                 ARIMA(1, 1, 1)   Log Likelihood               -5901.012\n",
       "Date:                Wed, 09 Mar 2022   AIC                          11808.024\n",
       "Time:                        12:01:25   BIC                          11829.855\n",
       "Sample:                    06-26-1992   HQIC                         11815.389\n",
       "                         - 10-01-2021                                         \n",
       "Covariance Type:                  opg                                         \n",
       "==============================================================================\n",
       "                 coef    std err          z      P>|z|      [0.025      0.975]\n",
       "------------------------------------------------------------------------------\n",
       "ar.L1          0.0324      0.080      0.407      0.684      -0.124       0.188\n",
       "ma.L1          0.0075      0.079      0.095      0.924      -0.148       0.163\n",
       "sigma2         0.1766      0.000    451.461      0.000       0.176       0.177\n",
       "===================================================================================\n",
       "Ljung-Box (L1) (Q):                   0.00   Jarque-Bera (JB):           2833414.94\n",
       "Prob(Q):                              0.95   Prob(JB):                         0.00\n",
       "Heteroskedasticity (H):             148.47   Skew:                             0.77\n",
       "Prob(H) (two-sided):                  0.00   Kurtosis:                        82.75\n",
       "===================================================================================\n",
       "\n",
       "Warnings:\n",
       "[1] Covariance matrix calculated using the outer product of gradients (complex-step).\n",
       "\"\"\""
      ]
     },
     "execution_count": 7,
     "metadata": {},
     "output_type": "execute_result"
    }
   ],
   "source": [
    "#criando modelo ARIMA\n",
    "modelo= ARIMA(ts, order= (1,1,1), freq= ts.index.inferred_freq)\n",
    "treinado= modelo.fit()\n",
    "treinado.summary()"
   ]
  },
  {
   "cell_type": "code",
   "execution_count": 8,
   "metadata": {},
   "outputs": [
    {
     "data": {
      "text/plain": [
       "2021-10-02    113.511972\n",
       "2021-10-03    113.513655\n",
       "2021-10-04    113.513710\n",
       "2021-10-05    113.513711\n",
       "2021-10-06    113.513712\n",
       "2021-10-07    113.513712\n",
       "2021-10-08    113.513712\n",
       "2021-10-09    113.513712\n",
       "2021-10-10    113.513712\n",
       "2021-10-11    113.513712\n",
       "2021-10-12    113.513712\n",
       "2021-10-13    113.513712\n",
       "2021-10-14    113.513712\n",
       "2021-10-15    113.513712\n",
       "2021-10-16    113.513712\n",
       "2021-10-17    113.513712\n",
       "2021-10-18    113.513712\n",
       "2021-10-19    113.513712\n",
       "2021-10-20    113.513712\n",
       "2021-10-21    113.513712\n",
       "Freq: D, Name: predicted_mean, dtype: float64"
      ]
     },
     "execution_count": 8,
     "metadata": {},
     "output_type": "execute_result"
    }
   ],
   "source": [
    "previsoes= treinado.forecast(steps=20)\n",
    "previsoes"
   ]
  },
  {
   "cell_type": "code",
   "execution_count": 9,
   "metadata": {},
   "outputs": [
    {
     "data": {
      "text/plain": [
       "[<matplotlib.lines.Line2D at 0x7fa7b7d0d908>]"
      ]
     },
     "execution_count": 9,
     "metadata": {},
     "output_type": "execute_result"
    },
    {
     "data": {
      "image/png": "[encoded data removed]",
      "text/plain": [
       "<Figure size 432x288 with 1 Axes>"
      ]
     },
     "metadata": {},
     "output_type": "display_data"
    }
   ],
   "source": [
    "plt.style.use('ggplot')\n",
    "plt.title(\"Série de altas das ações\")\n",
    "plt.xlabel(\"Anos\")\n",
    "plt.ylabel(\"Valor\")\n",
    "plt.plot(previsoes)"
   ]
  },
  {
   "cell_type": "code",
   "execution_count": 10,
   "metadata": {},
   "outputs": [
    {
     "name": "stdout",
     "output_type": "stream",
     "text": [
      "Performing stepwise search to minimize aic\n",
      " ARIMA(2,2,2)(1,0,1)[6]             : AIC=inf, Time=20.16 sec\n",
      " ARIMA(0,2,0)(0,0,0)[6]             : AIC=18789.502, Time=0.43 sec\n",
      " ARIMA(1,2,0)(1,0,0)[6]             : AIC=15974.811, Time=0.92 sec\n",
      " ARIMA(0,2,1)(0,0,1)[6]             : AIC=inf, Time=3.11 sec\n",
      " ARIMA(1,2,0)(0,0,0)[6]             : AIC=15991.077, Time=0.35 sec\n",
      " ARIMA(1,2,0)(2,0,0)[6]             : AIC=15976.312, Time=1.77 sec\n",
      " ARIMA(1,2,0)(1,0,1)[6]             : AIC=15975.490, Time=2.40 sec\n",
      " ARIMA(1,2,0)(0,0,1)[6]             : AIC=15974.550, Time=0.92 sec\n",
      " ARIMA(1,2,0)(0,0,2)[6]             : AIC=15976.028, Time=1.90 sec\n",
      " ARIMA(1,2,0)(1,0,2)[6]             : AIC=15977.487, Time=4.42 sec\n",
      " ARIMA(0,2,0)(0,0,1)[6]             : AIC=18790.483, Time=0.62 sec\n",
      " ARIMA(2,2,0)(0,0,1)[6]             : AIC=15107.982, Time=1.11 sec\n",
      " ARIMA(2,2,0)(0,0,0)[6]             : AIC=15123.694, Time=0.41 sec\n",
      " ARIMA(2,2,0)(1,0,1)[6]             : AIC=15107.610, Time=3.12 sec\n",
      " ARIMA(2,2,0)(1,0,0)[6]             : AIC=15108.241, Time=1.09 sec\n",
      " ARIMA(2,2,0)(2,0,1)[6]             : AIC=15109.609, Time=7.50 sec\n",
      " ARIMA(2,2,0)(1,0,2)[6]             : AIC=15109.609, Time=5.70 sec\n",
      " ARIMA(2,2,0)(0,0,2)[6]             : AIC=15109.312, Time=2.24 sec\n",
      " ARIMA(2,2,0)(2,0,0)[6]             : AIC=15109.810, Time=1.96 sec\n",
      " ARIMA(2,2,0)(2,0,2)[6]             : AIC=15103.482, Time=9.06 sec\n",
      " ARIMA(1,2,0)(2,0,2)[6]             : AIC=15976.949, Time=7.66 sec\n",
      " ARIMA(3,2,0)(2,0,2)[6]             : AIC=14489.877, Time=11.21 sec\n",
      " ARIMA(3,2,0)(1,0,2)[6]             : AIC=14493.424, Time=6.49 sec\n",
      " ARIMA(3,2,0)(2,0,1)[6]             : AIC=14493.410, Time=7.87 sec\n",
      " ARIMA(3,2,0)(1,0,1)[6]             : AIC=14491.489, Time=4.68 sec\n",
      " ARIMA(4,2,0)(2,0,2)[6]             : AIC=inf, Time=23.64 sec\n",
      " ARIMA(3,2,1)(2,0,2)[6]             : AIC=inf, Time=24.16 sec\n",
      " ARIMA(2,2,1)(2,0,2)[6]             : AIC=inf, Time=27.80 sec\n",
      " ARIMA(4,2,1)(2,0,2)[6]             : AIC=inf, Time=38.32 sec\n",
      " ARIMA(3,2,0)(2,0,2)[6] intercept   : AIC=14491.876, Time=49.71 sec\n",
      "\n",
      "Best model:  ARIMA(3,2,0)(2,0,2)[6]          \n",
      "Total fit time: 270.872 seconds\n"
     ]
    },
    {
     "data": {
      "text/html": [
       "<table class=\"simpletable\">\n",
       "<caption>SARIMAX Results</caption>\n",
       "<tr>\n",
       "  <th>Dep. Variable:</th>                    <td>y</td>                 <th>  No. Observations:  </th>   <td>10690</td>  \n",
       "</tr>\n",
       "<tr>\n",
       "  <th>Model:</th>           <td>SARIMAX(3, 2, 0)x(2, 0, [1, 2], 6)</td> <th>  Log Likelihood     </th> <td>-7236.938</td>\n",
       "</tr>\n",
       "<tr>\n",
       "  <th>Date:</th>                     <td>Wed, 09 Mar 2022</td>          <th>  AIC                </th> <td>14489.877</td>\n",
       "</tr>\n",
       "<tr>\n",
       "  <th>Time:</th>                         <td>12:05:59</td>              <th>  BIC                </th> <td>14548.092</td>\n",
       "</tr>\n",
       "<tr>\n",
       "  <th>Sample:</th>                           <td>0</td>                 <th>  HQIC               </th> <td>14509.517</td>\n",
       "</tr>\n",
       "<tr>\n",
       "  <th></th>                              <td> - 10690</td>              <th>                     </th>     <td> </td>    \n",
       "</tr>\n",
       "<tr>\n",
       "  <th>Covariance Type:</th>                 <td>opg</td>                <th>                     </th>     <td> </td>    \n",
       "</tr>\n",
       "</table>\n",
       "<table class=\"simpletable\">\n",
       "<tr>\n",
       "      <td></td>        <th>coef</th>     <th>std err</th>      <th>z</th>      <th>P>|z|</th>  <th>[0.025</th>    <th>0.975]</th>  \n",
       "</tr>\n",
       "<tr>\n",
       "  <th>ar.L1</th>    <td>   -0.6843</td> <td>    0.002</td> <td> -311.273</td> <td> 0.000</td> <td>   -0.689</td> <td>   -0.680</td>\n",
       "</tr>\n",
       "<tr>\n",
       "  <th>ar.L2</th>    <td>   -0.4271</td> <td>    0.003</td> <td> -129.043</td> <td> 0.000</td> <td>   -0.434</td> <td>   -0.421</td>\n",
       "</tr>\n",
       "<tr>\n",
       "  <th>ar.L3</th>    <td>   -0.2370</td> <td>    0.002</td> <td> -119.381</td> <td> 0.000</td> <td>   -0.241</td> <td>   -0.233</td>\n",
       "</tr>\n",
       "<tr>\n",
       "  <th>ar.S.L6</th>  <td>    0.2820</td> <td>    0.161</td> <td>    1.752</td> <td> 0.080</td> <td>   -0.034</td> <td>    0.598</td>\n",
       "</tr>\n",
       "<tr>\n",
       "  <th>ar.S.L12</th> <td>    0.3877</td> <td>    0.092</td> <td>    4.201</td> <td> 0.000</td> <td>    0.207</td> <td>    0.569</td>\n",
       "</tr>\n",
       "<tr>\n",
       "  <th>ma.S.L6</th>  <td>   -0.2442</td> <td>    0.160</td> <td>   -1.523</td> <td> 0.128</td> <td>   -0.558</td> <td>    0.070</td>\n",
       "</tr>\n",
       "<tr>\n",
       "  <th>ma.S.L12</th> <td>   -0.3959</td> <td>    0.088</td> <td>   -4.478</td> <td> 0.000</td> <td>   -0.569</td> <td>   -0.223</td>\n",
       "</tr>\n",
       "<tr>\n",
       "  <th>sigma2</th>   <td>    0.2268</td> <td>    0.001</td> <td>  381.368</td> <td> 0.000</td> <td>    0.226</td> <td>    0.228</td>\n",
       "</tr>\n",
       "</table>\n",
       "<table class=\"simpletable\">\n",
       "<tr>\n",
       "  <th>Ljung-Box (L1) (Q):</th>      <td>39.50</td> <th>  Jarque-Bera (JB):  </th> <td>2430186.01</td>\n",
       "</tr>\n",
       "<tr>\n",
       "  <th>Prob(Q):</th>                 <td>0.00</td>  <th>  Prob(JB):          </th>    <td>0.00</td>   \n",
       "</tr>\n",
       "<tr>\n",
       "  <th>Heteroskedasticity (H):</th> <td>148.94</td> <th>  Skew:              </th>    <td>1.02</td>   \n",
       "</tr>\n",
       "<tr>\n",
       "  <th>Prob(H) (two-sided):</th>     <td>0.00</td>  <th>  Kurtosis:          </th>    <td>76.84</td>  \n",
       "</tr>\n",
       "</table><br/><br/>Warnings:<br/>[1] Covariance matrix calculated using the outer product of gradients (complex-step)."
      ],
      "text/plain": [
       "<class 'statsmodels.iolib.summary.Summary'>\n",
       "\"\"\"\n",
       "                                       SARIMAX Results                                        \n",
       "==============================================================================================\n",
       "Dep. Variable:                                      y   No. Observations:                10690\n",
       "Model:             SARIMAX(3, 2, 0)x(2, 0, [1, 2], 6)   Log Likelihood               -7236.938\n",
       "Date:                                Wed, 09 Mar 2022   AIC                          14489.877\n",
       "Time:                                        12:05:59   BIC                          14548.092\n",
       "Sample:                                             0   HQIC                         14509.517\n",
       "                                              - 10690                                         \n",
       "Covariance Type:                                  opg                                         \n",
       "==============================================================================\n",
       "                 coef    std err          z      P>|z|      [0.025      0.975]\n",
       "------------------------------------------------------------------------------\n",
       "ar.L1         -0.6843      0.002   -311.273      0.000      -0.689      -0.680\n",
       "ar.L2         -0.4271      0.003   -129.043      0.000      -0.434      -0.421\n",
       "ar.L3         -0.2370      0.002   -119.381      0.000      -0.241      -0.233\n",
       "ar.S.L6        0.2820      0.161      1.752      0.080      -0.034       0.598\n",
       "ar.S.L12       0.3877      0.092      4.201      0.000       0.207       0.569\n",
       "ma.S.L6       -0.2442      0.160     -1.523      0.128      -0.558       0.070\n",
       "ma.S.L12      -0.3959      0.088     -4.478      0.000      -0.569      -0.223\n",
       "sigma2         0.2268      0.001    381.368      0.000       0.226       0.228\n",
       "===================================================================================\n",
       "Ljung-Box (L1) (Q):                  39.50   Jarque-Bera (JB):           2430186.01\n",
       "Prob(Q):                              0.00   Prob(JB):                         0.00\n",
       "Heteroskedasticity (H):             148.94   Skew:                             1.02\n",
       "Prob(H) (two-sided):                  0.00   Kurtosis:                        76.84\n",
       "===================================================================================\n",
       "\n",
       "Warnings:\n",
       "[1] Covariance matrix calculated using the outer product of gradients (complex-step).\n",
       "\"\"\""
      ]
     },
     "execution_count": 10,
     "metadata": {},
     "output_type": "execute_result"
    }
   ],
   "source": [
    "#utilizando o auto ARIMA para previsão de 6 periodos\n",
    "auto= auto_arima(ts, m=6, seasonal= True, trace= True)\n",
    "auto.summary()"
   ]
  },
  {
   "cell_type": "code",
   "execution_count": 11,
   "metadata": {},
   "outputs": [
    {
     "data": {
      "text/plain": [
       "array([113.27166473, 113.31378523, 113.36618496, 113.68573955,\n",
       "       113.79365928, 114.0119508 , 114.15114453, 114.37882013,\n",
       "       114.55424526, 114.75898713, 114.95375945, 115.14713694])"
      ]
     },
     "execution_count": 11,
     "metadata": {},
     "output_type": "execute_result"
    }
   ],
   "source": [
    "pred= auto.predict(n_periods= 12)\n",
    "pred"
   ]
  },
  {
   "cell_type": "code",
   "execution_count": 12,
   "metadata": {},
   "outputs": [
    {
     "data": {
      "text/plain": [
       "[<matplotlib.lines.Line2D at 0x7fa67709cd68>]"
      ]
     },
     "execution_count": 12,
     "metadata": {},
     "output_type": "execute_result"
    },
    {
     "data": {
      "image/png": "[encoded data removed]",
      "text/plain": [
       "<Figure size 432x288 with 1 Axes>"
      ]
     },
     "metadata": {},
     "output_type": "display_data"
    }
   ],
   "source": [
    "plt.style.use('ggplot')\n",
    "plt.title(\"Série de altas das ações\")\n",
    "plt.xlabel(\"Anos\")\n",
    "plt.ylabel(\"Valor\")\n",
    "plt.plot(pred)"
   ]
  },
  {
   "cell_type": "code",
   "execution_count": null,
   "metadata": {},
   "outputs": [],
   "source": []
  },
  {
   "cell_type": "code",
   "execution_count": null,
   "metadata": {},
   "outputs": [],
   "source": []
  }
 ],
 "metadata": {
  "kernelspec": {
   "display_name": "Python 3",
   "language": "python",
   "name": "python3"
  },
  "language_info": {
   "codemirror_mode": {
    "name": "ipython",
    "version": 3
   },
   "file_extension": ".py",
   "mimetype": "text/x-python",
   "name": "python",
   "nbconvert_exporter": "python",
   "pygments_lexer": "ipython3",
   "version": "3.7.3"
  }
 },
 "nbformat": 4,
 "nbformat_minor": 2
}
